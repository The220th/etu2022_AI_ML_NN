{
 "cells": [
  {
   "cell_type": "code",
   "execution_count": 1,
   "id": "e0ed926e",
   "metadata": {},
   "outputs": [],
   "source": [
    "# Подготовка\n",
    "import pandas as pd\n",
    "import seaborn as sns\n",
    "import matplotlib.pyplot as plt\n",
    "from statsmodels.graphics.mosaicplot import mosaic\n",
    "\n",
    "from sklearn.linear_model import LogisticRegression\n",
    "from sklearn.neighbors import KNeighborsClassifier\n",
    "\n",
    "from sklearn.preprocessing import StandardScaler\n",
    "from sklearn.model_selection import train_test_split, StratifiedKFold\n",
    "from sklearn.metrics import classification_report\n",
    "\n",
    "import zipfile\n",
    "\n",
    "\n",
    "__z = zipfile.ZipFile(\"dataset.zip\")\n",
    "#df_str = __z.open(\"csgo_round_snapshots.csv\").read().decode(\"utf-8\")\n",
    "df_str_fs = __z.open(\"csgo_round_snapshots.csv\")\n",
    "\n",
    "df_src = pd.read_csv(df_str_fs)\n",
    "\n",
    "category_columns = [\"map\", \"bomb_planted\", \"round_winner\"]"
   ]
  },
  {
   "cell_type": "markdown",
   "id": "973b8e0e",
   "metadata": {},
   "source": [
    "# Предварительная обработка данных\n",
    "\n",
    "Данные [отсюда](https://www.kaggle.com/datasets/christianlillelund/csgo-round-winner-classification):\n",
    "\n",
    "![](./imgs/table.png)"
   ]
  },
  {
   "cell_type": "code",
   "execution_count": null,
   "id": "4ad34610",
   "metadata": {},
   "outputs": [],
   "source": [
    "# Look dataframe\n",
    "#df_src.head()\n",
    "pd.set_option('display.max_columns', 97)\n",
    "df_src.tail()"
   ]
  },
  {
   "cell_type": "markdown",
   "id": "d2b082bf",
   "metadata": {},
   "source": [
    "# Убираем дубликаты"
   ]
  },
  {
   "cell_type": "code",
   "execution_count": 2,
   "id": "b8501106",
   "metadata": {
    "scrolled": true
   },
   "outputs": [
    {
     "name": "stdout",
     "output_type": "stream",
     "text": [
      "Number of (rows, columns): (122410, 97)\n",
      "Number of duplicate (rows, columns): (4962, 97)\n",
      "Number of (rows, columns) after drop dublicates: (117448, 97)\n"
     ]
    }
   ],
   "source": [
    "print(f\"Number of (rows, columns): {df_src.shape}\")\n",
    "duplicate_rows_df = df_src[df_src.duplicated()]\n",
    "print(f\"Number of duplicate (rows, columns): {duplicate_rows_df.shape}\")\n",
    "df_src = df_src.drop_duplicates()\n",
    "print(f\"Number of (rows, columns) after drop dublicates: {df_src.shape}\")"
   ]
  },
  {
   "cell_type": "markdown",
   "id": "7b065abc",
   "metadata": {},
   "source": [
    "# Смотрим, чтобы не было нерелевантных данных\n",
    "\n",
    "## Как поступить с такими данными?\n",
    "\n",
    "![](./imgs/if_missing_data.png)"
   ]
  },
  {
   "cell_type": "code",
   "execution_count": null,
   "id": "4ed45b78",
   "metadata": {
    "scrolled": true
   },
   "outputs": [],
   "source": [
    "pd.set_option('display.max_rows', 97)\n",
    "df_src.count() # Кол-во не None значений в каждой колонке"
   ]
  },
  {
   "cell_type": "code",
   "execution_count": null,
   "id": "51fe95a6",
   "metadata": {
    "scrolled": true
   },
   "outputs": [],
   "source": [
    "pd.set_option('display.max_rows', 97)\n",
    "print(df_src.isnull().sum()) # Смотрим есть ли null хотя бы в каком-нибудь столбце\n",
    "# null'ов нет, поэтому \"df_src = df_src.dropna()\" не нужно"
   ]
  },
  {
   "cell_type": "markdown",
   "id": "a022623b",
   "metadata": {},
   "source": [
    "# Делаем кодирование строк + float->int"
   ]
  },
  {
   "cell_type": "code",
   "execution_count": 3,
   "id": "6fd3e4d2",
   "metadata": {
    "scrolled": true
   },
   "outputs": [
    {
     "data": {
      "text/plain": [
       "time_left                        float64\n",
       "ct_score                         float64\n",
       "t_score                          float64\n",
       "map                             category\n",
       "bomb_planted                    category\n",
       "ct_health                        float64\n",
       "t_health                         float64\n",
       "ct_armor                         float64\n",
       "t_armor                          float64\n",
       "ct_money                         float64\n",
       "t_money                          float64\n",
       "ct_helmets                       float64\n",
       "t_helmets                        float64\n",
       "ct_defuse_kits                   float64\n",
       "ct_players_alive                 float64\n",
       "t_players_alive                  float64\n",
       "ct_weapon_ak47                   float64\n",
       "t_weapon_ak47                    float64\n",
       "ct_weapon_aug                    float64\n",
       "t_weapon_aug                     float64\n",
       "ct_weapon_awp                    float64\n",
       "t_weapon_awp                     float64\n",
       "ct_weapon_bizon                  float64\n",
       "t_weapon_bizon                   float64\n",
       "ct_weapon_cz75auto               float64\n",
       "t_weapon_cz75auto                float64\n",
       "ct_weapon_elite                  float64\n",
       "t_weapon_elite                   float64\n",
       "ct_weapon_famas                  float64\n",
       "t_weapon_famas                   float64\n",
       "ct_weapon_g3sg1                  float64\n",
       "t_weapon_g3sg1                   float64\n",
       "ct_weapon_galilar                float64\n",
       "t_weapon_galilar                 float64\n",
       "ct_weapon_glock                  float64\n",
       "t_weapon_glock                   float64\n",
       "ct_weapon_m249                   float64\n",
       "t_weapon_m249                    float64\n",
       "ct_weapon_m4a1s                  float64\n",
       "t_weapon_m4a1s                   float64\n",
       "ct_weapon_m4a4                   float64\n",
       "t_weapon_m4a4                    float64\n",
       "ct_weapon_mac10                  float64\n",
       "t_weapon_mac10                   float64\n",
       "ct_weapon_mag7                   float64\n",
       "t_weapon_mag7                    float64\n",
       "ct_weapon_mp5sd                  float64\n",
       "t_weapon_mp5sd                   float64\n",
       "ct_weapon_mp7                    float64\n",
       "t_weapon_mp7                     float64\n",
       "ct_weapon_mp9                    float64\n",
       "t_weapon_mp9                     float64\n",
       "ct_weapon_negev                  float64\n",
       "t_weapon_negev                   float64\n",
       "ct_weapon_nova                   float64\n",
       "t_weapon_nova                    float64\n",
       "ct_weapon_p90                    float64\n",
       "t_weapon_p90                     float64\n",
       "ct_weapon_r8revolver             float64\n",
       "t_weapon_r8revolver              float64\n",
       "ct_weapon_sawedoff               float64\n",
       "t_weapon_sawedoff                float64\n",
       "ct_weapon_scar20                 float64\n",
       "t_weapon_scar20                  float64\n",
       "ct_weapon_sg553                  float64\n",
       "t_weapon_sg553                   float64\n",
       "ct_weapon_ssg08                  float64\n",
       "t_weapon_ssg08                   float64\n",
       "ct_weapon_ump45                  float64\n",
       "t_weapon_ump45                   float64\n",
       "ct_weapon_xm1014                 float64\n",
       "t_weapon_xm1014                  float64\n",
       "ct_weapon_deagle                 float64\n",
       "t_weapon_deagle                  float64\n",
       "ct_weapon_fiveseven              float64\n",
       "t_weapon_fiveseven               float64\n",
       "ct_weapon_usps                   float64\n",
       "t_weapon_usps                    float64\n",
       "ct_weapon_p250                   float64\n",
       "t_weapon_p250                    float64\n",
       "ct_weapon_p2000                  float64\n",
       "t_weapon_p2000                   float64\n",
       "ct_weapon_tec9                   float64\n",
       "t_weapon_tec9                    float64\n",
       "ct_grenade_hegrenade             float64\n",
       "t_grenade_hegrenade              float64\n",
       "ct_grenade_flashbang             float64\n",
       "t_grenade_flashbang              float64\n",
       "ct_grenade_smokegrenade          float64\n",
       "t_grenade_smokegrenade           float64\n",
       "ct_grenade_incendiarygrenade     float64\n",
       "t_grenade_incendiarygrenade      float64\n",
       "ct_grenade_molotovgrenade        float64\n",
       "t_grenade_molotovgrenade         float64\n",
       "ct_grenade_decoygrenade          float64\n",
       "t_grenade_decoygrenade           float64\n",
       "round_winner                    category\n",
       "dtype: object"
      ]
     },
     "execution_count": 3,
     "metadata": {},
     "output_type": "execute_result"
    }
   ],
   "source": [
    "df_float_cat = df_src.copy()\n",
    "\n",
    "label_columns = category_columns\n",
    "for label_column_i in label_columns:\n",
    "    df_float_cat[label_column_i] = df_float_cat[label_column_i].astype('category')\n",
    "\n",
    "pd.set_option('display.max_rows', 97)\n",
    "df_float_cat.dtypes                            # Смотрим какие вообще есть типы"
   ]
  },
  {
   "cell_type": "code",
   "execution_count": 4,
   "id": "4bd7b5d4",
   "metadata": {
    "scrolled": true
   },
   "outputs": [
    {
     "data": {
      "text/plain": [
       "time_left                       int64\n",
       "ct_score                        int64\n",
       "t_score                         int64\n",
       "map                             int64\n",
       "bomb_planted                    int64\n",
       "ct_health                       int64\n",
       "t_health                        int64\n",
       "ct_armor                        int64\n",
       "t_armor                         int64\n",
       "ct_money                        int64\n",
       "t_money                         int64\n",
       "ct_helmets                      int64\n",
       "t_helmets                       int64\n",
       "ct_defuse_kits                  int64\n",
       "ct_players_alive                int64\n",
       "t_players_alive                 int64\n",
       "ct_weapon_ak47                  int64\n",
       "t_weapon_ak47                   int64\n",
       "ct_weapon_aug                   int64\n",
       "t_weapon_aug                    int64\n",
       "ct_weapon_awp                   int64\n",
       "t_weapon_awp                    int64\n",
       "ct_weapon_bizon                 int64\n",
       "t_weapon_bizon                  int64\n",
       "ct_weapon_cz75auto              int64\n",
       "t_weapon_cz75auto               int64\n",
       "ct_weapon_elite                 int64\n",
       "t_weapon_elite                  int64\n",
       "ct_weapon_famas                 int64\n",
       "t_weapon_famas                  int64\n",
       "ct_weapon_g3sg1                 int64\n",
       "t_weapon_g3sg1                  int64\n",
       "ct_weapon_galilar               int64\n",
       "t_weapon_galilar                int64\n",
       "ct_weapon_glock                 int64\n",
       "t_weapon_glock                  int64\n",
       "ct_weapon_m249                  int64\n",
       "t_weapon_m249                   int64\n",
       "ct_weapon_m4a1s                 int64\n",
       "t_weapon_m4a1s                  int64\n",
       "ct_weapon_m4a4                  int64\n",
       "t_weapon_m4a4                   int64\n",
       "ct_weapon_mac10                 int64\n",
       "t_weapon_mac10                  int64\n",
       "ct_weapon_mag7                  int64\n",
       "t_weapon_mag7                   int64\n",
       "ct_weapon_mp5sd                 int64\n",
       "t_weapon_mp5sd                  int64\n",
       "ct_weapon_mp7                   int64\n",
       "t_weapon_mp7                    int64\n",
       "ct_weapon_mp9                   int64\n",
       "t_weapon_mp9                    int64\n",
       "ct_weapon_negev                 int64\n",
       "t_weapon_negev                  int64\n",
       "ct_weapon_nova                  int64\n",
       "t_weapon_nova                   int64\n",
       "ct_weapon_p90                   int64\n",
       "t_weapon_p90                    int64\n",
       "ct_weapon_r8revolver            int64\n",
       "t_weapon_r8revolver             int64\n",
       "ct_weapon_sawedoff              int64\n",
       "t_weapon_sawedoff               int64\n",
       "ct_weapon_scar20                int64\n",
       "t_weapon_scar20                 int64\n",
       "ct_weapon_sg553                 int64\n",
       "t_weapon_sg553                  int64\n",
       "ct_weapon_ssg08                 int64\n",
       "t_weapon_ssg08                  int64\n",
       "ct_weapon_ump45                 int64\n",
       "t_weapon_ump45                  int64\n",
       "ct_weapon_xm1014                int64\n",
       "t_weapon_xm1014                 int64\n",
       "ct_weapon_deagle                int64\n",
       "t_weapon_deagle                 int64\n",
       "ct_weapon_fiveseven             int64\n",
       "t_weapon_fiveseven              int64\n",
       "ct_weapon_usps                  int64\n",
       "t_weapon_usps                   int64\n",
       "ct_weapon_p250                  int64\n",
       "t_weapon_p250                   int64\n",
       "ct_weapon_p2000                 int64\n",
       "t_weapon_p2000                  int64\n",
       "ct_weapon_tec9                  int64\n",
       "t_weapon_tec9                   int64\n",
       "ct_grenade_hegrenade            int64\n",
       "t_grenade_hegrenade             int64\n",
       "ct_grenade_flashbang            int64\n",
       "t_grenade_flashbang             int64\n",
       "ct_grenade_smokegrenade         int64\n",
       "t_grenade_smokegrenade          int64\n",
       "ct_grenade_incendiarygrenade    int64\n",
       "t_grenade_incendiarygrenade     int64\n",
       "ct_grenade_molotovgrenade       int64\n",
       "t_grenade_molotovgrenade        int64\n",
       "ct_grenade_decoygrenade         int64\n",
       "t_grenade_decoygrenade          int64\n",
       "round_winner                    int64\n",
       "dtype: object"
      ]
     },
     "execution_count": 4,
     "metadata": {},
     "output_type": "execute_result"
    }
   ],
   "source": [
    "df_ints = df_src.copy()\n",
    "\n",
    "float64_cols = df_ints.loc[:, df_ints.dtypes == float].columns\n",
    "\n",
    "df_ints[float64_cols] = df_ints[float64_cols].astype(int)\n",
    "\n",
    "# Label Encoding\n",
    "label_columns = category_columns\n",
    "for label_column_i in label_columns:\n",
    "    df_ints[label_column_i] = df_ints[label_column_i].astype('category')\n",
    "    df_ints[label_column_i] = df_ints[label_column_i].cat.codes\n",
    "    df_ints[label_column_i] = df_ints[label_column_i].astype(int)\n",
    "\n",
    "pd.set_option('display.max_rows', 97)\n",
    "df_ints.dtypes"
   ]
  },
  {
   "cell_type": "markdown",
   "id": "4f9c3d68",
   "metadata": {},
   "source": [
    "# Графики\n",
    "\n",
    "![](./imgs/which_visualization.png)\n",
    "\n",
    "В нашем случае есть смысл только в мозаичные диаграммы и диаграммы размаха"
   ]
  },
  {
   "cell_type": "code",
   "execution_count": null,
   "id": "e09fae59",
   "metadata": {
    "scrolled": false
   },
   "outputs": [],
   "source": [
    "# Тепловая карта\n",
    "\n",
    "\n",
    "plt.figure(figsize=(100,50))\n",
    "c= df_ints.corr()\n",
    "sns.heatmap(c,cmap=\"BrBG\",annot=True)\n",
    "c"
   ]
  },
  {
   "cell_type": "code",
   "execution_count": null,
   "id": "a7b2415f",
   "metadata": {},
   "outputs": [],
   "source": [
    "#sns.boxplot(x=df_src['time_left'])"
   ]
  },
  {
   "cell_type": "code",
   "execution_count": null,
   "id": "92ff4cd8",
   "metadata": {
    "scrolled": true
   },
   "outputs": [],
   "source": [
    "# Диаграммы размаха\n",
    "\n",
    "float64_cols = df_float_cat.loc[:, df_float_cat.dtypes == \"float64\"].columns\n",
    "\n",
    "for float_i in float64_cols:\n",
    "    df_float_cat.boxplot(by ='round_winner', column =[float_i], grid = True)"
   ]
  },
  {
   "cell_type": "code",
   "execution_count": null,
   "id": "a0d1fec8",
   "metadata": {},
   "outputs": [],
   "source": [
    "# Мозаичные диаграммы\n",
    "\n",
    "plt.rcParams[\"figure.figsize\"]=(10, 5)\n",
    "category_cols = df_float_cat.loc[:, df_float_cat.dtypes == \"category\"].columns\n",
    "\n",
    "for cat_i in category_cols:\n",
    "    if(cat_i != \"round_winner\"):\n",
    "        null_out = mosaic(df_float_cat, [cat_i, 'round_winner'])\n"
   ]
  },
  {
   "cell_type": "code",
   "execution_count": null,
   "id": "12149c2b",
   "metadata": {
    "scrolled": true
   },
   "outputs": [],
   "source": [
    "# Гистограммы\n",
    "\n",
    "plt.figure(figsize=(100,50))\n",
    "\n",
    "cols = df_ints.columns\n",
    "for col_i in cols:\n",
    "    df_ints.hist(column=col_i)\n",
    "#df_float_cat.hist()"
   ]
  },
  {
   "cell_type": "markdown",
   "id": "018f4401",
   "metadata": {},
   "source": [
    "# Проектирование признаков"
   ]
  },
  {
   "cell_type": "code",
   "execution_count": null,
   "id": "a7c1c3d9",
   "metadata": {
    "scrolled": false
   },
   "outputs": [],
   "source": [
    "#df_src.columns\n",
    "\n",
    "# https://stackoverflow.com/questions/25748683/pandas-sum-dataframe-rows-for-given-columns\n",
    "\n",
    "weapons_auto_guns_ct = [\"ct_weapon_ak47\", \"ct_weapon_aug\", \"ct_weapon_famas\", \"ct_weapon_galilar\", \n",
    "                        \"ct_weapon_m249\", \"ct_weapon_m4a1s\", \"ct_weapon_m4a4\", \n",
    "                        \"ct_weapon_negev\", \"ct_weapon_sg553\"]\n",
    "weapons_rifle_ct = [\"ct_weapon_awp\", \"ct_weapon_g3sg1\", \n",
    "                    \"ct_weapon_scar20\", \"ct_weapon_ssg08\"]\n",
    "weapons_sub_guns_ct = [\"ct_weapon_bizon\", \"ct_weapon_mac10\",\n",
    "                      \"ct_weapon_mp5sd\", \"ct_weapon_mp7\",\n",
    "                      \"ct_weapon_mp9\", \"ct_weapon_p90\", \"ct_weapon_ump45\"]\n",
    "weapons_pistols_ct = [\"ct_weapon_cz75auto\", \"ct_weapon_elite\", \n",
    "                      \"ct_weapon_glock\", \"ct_weapon_r8revolver\",\n",
    "                     \"ct_weapon_fiveseven\", \"ct_weapon_deagle\", \n",
    "                     \"ct_weapon_usps\", \"ct_weapon_p250\", \n",
    "                      \"ct_weapon_p2000\", \"ct_weapon_tec9\"]\n",
    "weapons_shutguns_ct = [\"ct_weapon_mag7\", \"ct_weapon_nova\", \n",
    "                       \"ct_weapon_sawedoff\", \"ct_weapon_xm1014\"]\n",
    "weapons_grenades_ct = [\"ct_grenade_hegrenade\", \"ct_grenade_flashbang\", \"ct_grenade_smokegrenade\", \n",
    "                       \"ct_grenade_incendiarygrenade\", \"ct_grenade_molotovgrenade\", \n",
    "                       \"ct_grenade_decoygrenade\"]\n",
    "\n",
    "weapons_auto_guns_t = [\"t_weapon_ak47\", \"t_weapon_aug\", \"t_weapon_famas\", \"t_weapon_galilar\", \n",
    "                        \"t_weapon_m249\", \"t_weapon_m4a1s\", \"t_weapon_m4a4\", \n",
    "                        \"t_weapon_negev\", \"t_weapon_sg553\"]\n",
    "weapons_rifle_t = [\"t_weapon_awp\", \"t_weapon_g3sg1\", \n",
    "                    \"t_weapon_scar20\", \"t_weapon_ssg08\"]\n",
    "weapons_sub_guns_t = [\"t_weapon_bizon\", \"t_weapon_mac10\",\n",
    "                      \"t_weapon_mp5sd\", \"t_weapon_mp7\",\n",
    "                      \"t_weapon_mp9\", \"t_weapon_p90\", \"t_weapon_ump45\"]\n",
    "weapons_pistols_t = [\"t_weapon_cz75auto\", \"t_weapon_elite\", \n",
    "                      \"t_weapon_glock\", \"t_weapon_r8revolver\",\n",
    "                     \"t_weapon_fiveseven\", \"t_weapon_deagle\", \n",
    "                     \"t_weapon_usps\", \"t_weapon_p250\", \n",
    "                      \"t_weapon_p2000\", \"t_weapon_tec9\"]\n",
    "weapons_shutguns_t = [\"t_weapon_mag7\", \"t_weapon_nova\", \n",
    "                       \"t_weapon_sawedoff\", \"t_weapon_xm1014\"]\n",
    "weapons_grenades_t = [\"t_grenade_hegrenade\", \"t_grenade_flashbang\", \"t_grenade_smokegrenade\", \n",
    "                       \"t_grenade_incendiarygrenade\", \"t_grenade_molotovgrenade\", \n",
    "                       \"t_grenade_decoygrenade\"]\n",
    "\n",
    "\n",
    "df_float_cat_round = df_float_cat.copy()\n",
    "\n",
    "df_float_cat_round[\"weapons_auto_guns_ct\"] = df_float_cat_round[weapons_auto_guns_ct].sum(axis=1)\n",
    "df_float_cat_round[\"weapons_rifle_ct\"] = df_float_cat_round[weapons_rifle_ct].sum(axis=1)\n",
    "df_float_cat_round[\"weapons_sub_guns_ct\"] = df_float_cat_round[weapons_sub_guns_ct].sum(axis=1)\n",
    "df_float_cat_round[\"weapons_pistols_ct\"] = df_float_cat_round[weapons_pistols_ct].sum(axis=1)\n",
    "df_float_cat_round[\"weapons_shutguns_ct\"] = df_float_cat_round[weapons_shutguns_ct].sum(axis=1)\n",
    "df_float_cat_round[\"weapons_grenades_ct\"] = df_float_cat_round[weapons_grenades_ct].sum(axis=1)\n",
    "\n",
    "df_float_cat_round[\"weapons_auto_guns_t\"] = df_float_cat_round[weapons_auto_guns_t].sum(axis=1)\n",
    "df_float_cat_round[\"weapons_rifle_t\"] = df_float_cat_round[weapons_rifle_t].sum(axis=1)\n",
    "df_float_cat_round[\"weapons_sub_guns_t\"] = df_float_cat_round[weapons_sub_guns_t].sum(axis=1)\n",
    "df_float_cat_round[\"weapons_pistols_t\"] = df_float_cat_round[weapons_pistols_t].sum(axis=1)\n",
    "df_float_cat_round[\"weapons_shutguns_t\"] = df_float_cat_round[weapons_shutguns_t].sum(axis=1)\n",
    "df_float_cat_round[\"weapons_grenades_t\"] = df_float_cat_round[weapons_grenades_t].sum(axis=1)\n",
    "\n",
    "\n",
    "df_float_cat_round = df_float_cat_round.drop(weapons_auto_guns_ct+weapons_rifle_ct+weapons_sub_guns_ct+weapons_pistols_ct+weapons_shutguns_ct+weapons_grenades_ct+\n",
    "                        weapons_auto_guns_t+weapons_rifle_t+weapons_sub_guns_t+weapons_pistols_t+weapons_shutguns_t+weapons_grenades_t\n",
    "                       , axis=1)\n",
    "\n",
    "l = list(df_float_cat_round.columns)\n",
    "l.remove(\"round_winner\")\n",
    "l += [\"round_winner\"]\n",
    "\n",
    "df_float_cat_round = df_float_cat_round[l]\n",
    "\n",
    "pd.set_option('display.max_columns', 97)\n",
    "df_float_cat_round.head(100)\n",
    "\n"
   ]
  },
  {
   "cell_type": "code",
   "execution_count": null,
   "id": "348e44c2",
   "metadata": {
    "scrolled": true
   },
   "outputs": [],
   "source": [
    "# Тепловая карта\n",
    "\n",
    "df_ints_round = df_float_cat_round.copy()\n",
    "\n",
    "float64_cols = df_ints_round.loc[:, df_ints_round.dtypes == float].columns\n",
    "\n",
    "df_ints_round[float64_cols] = df_ints_round[float64_cols].astype(int)\n",
    "\n",
    "# Label Encoding\n",
    "label_columns = category_columns\n",
    "for label_column_i in label_columns:\n",
    "    df_ints_round[label_column_i] = df_ints_round[label_column_i].astype('category')\n",
    "    df_ints_round[label_column_i] = df_ints_round[label_column_i].cat.codes\n",
    "    df_ints_round[label_column_i] = df_ints_round[label_column_i].astype(int)\n",
    "\n",
    "\n",
    "plt.figure(figsize=(100,50))\n",
    "c= df_ints_round.corr()\n",
    "sns.heatmap(c,cmap=\"BrBG\",annot=True)\n",
    "c"
   ]
  },
  {
   "cell_type": "markdown",
   "id": "fa00cda0",
   "metadata": {},
   "source": [
    "# Обучение и прогноз"
   ]
  },
  {
   "cell_type": "markdown",
   "id": "6823c727",
   "metadata": {},
   "source": [
    "## Логистическая регрессия"
   ]
  },
  {
   "cell_type": "code",
   "execution_count": 10,
   "id": "9839b76c",
   "metadata": {},
   "outputs": [
    {
     "name": "stdout",
     "output_type": "stream",
     "text": [
      "              precision    recall  f1-score   support\n",
      "\n",
      "           0       0.75      0.77      0.76     18854\n",
      "           1       0.77      0.75      0.76     19904\n",
      "\n",
      "    accuracy                           0.76     38758\n",
      "   macro avg       0.76      0.76      0.76     38758\n",
      "weighted avg       0.76      0.76      0.76     38758\n",
      "\n"
     ]
    }
   ],
   "source": [
    "df = df_ints.copy()\n",
    "\n",
    "X = df.copy()\n",
    "Y = X.pop('round_winner')\n",
    "\n",
    "#X,y=SMOTE().fit_resample(X,y) # Не нужен. И так поровну в \"round_winner\"\n",
    "\n",
    "X_train, X_test, Y_train, Y_test = train_test_split(X, Y, test_size=0.33, random_state=5051)\n",
    "\n",
    "sc = StandardScaler()\n",
    "X_train = sc.fit_transform(X_train)\n",
    "X_test = sc.transform(X_test)\n",
    "\n",
    "model = LogisticRegression()\n",
    "model.fit(X_train, Y_train)\n",
    "\n",
    "Y_pred = model.predict(X_test)\n",
    "\n",
    "print(classification_report(Y_test, Y_pred))\n"
   ]
  }
 ],
 "metadata": {
  "kernelspec": {
   "display_name": "Python 3 (ipykernel)",
   "language": "python",
   "name": "python3"
  },
  "language_info": {
   "codemirror_mode": {
    "name": "ipython",
    "version": 3
   },
   "file_extension": ".py",
   "mimetype": "text/x-python",
   "name": "python",
   "nbconvert_exporter": "python",
   "pygments_lexer": "ipython3",
   "version": "3.10.7"
  }
 },
 "nbformat": 4,
 "nbformat_minor": 5
}
