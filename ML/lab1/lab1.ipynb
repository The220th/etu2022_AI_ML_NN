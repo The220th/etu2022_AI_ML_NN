{
 "cells": [
  {
   "cell_type": "code",
   "execution_count": null,
   "id": "e0ed926e",
   "metadata": {},
   "outputs": [],
   "source": [
    "# Подготовка\n",
    "import pandas as pd\n",
    "import seaborn as sns\n",
    "import matplotlib.pyplot as plt\n",
    "\n",
    "import zipfile\n",
    "\n",
    "\n",
    "__z = zipfile.ZipFile(\"dataset.zip\")\n",
    "#df_str = __z.open(\"csgo_round_snapshots.csv\").read().decode(\"utf-8\")\n",
    "df_str_fs = __z.open(\"csgo_round_snapshots.csv\")\n",
    "\n",
    "df = pd.read_csv(df_str_fs)"
   ]
  },
  {
   "cell_type": "markdown",
   "id": "973b8e0e",
   "metadata": {},
   "source": [
    "# Предварительная обработка данных\n",
    "\n",
    "Данные:\n",
    "\n",
    "![](./imgs/table.png)"
   ]
  },
  {
   "cell_type": "code",
   "execution_count": null,
   "id": "4ad34610",
   "metadata": {},
   "outputs": [],
   "source": [
    "# Look dataframe\n",
    "#df.head()\n",
    "pd.set_option('display.max_columns', 97)\n",
    "df.tail()"
   ]
  },
  {
   "cell_type": "markdown",
   "id": "d2b082bf",
   "metadata": {},
   "source": [
    "# Убираем дубликаты"
   ]
  },
  {
   "cell_type": "code",
   "execution_count": null,
   "id": "b8501106",
   "metadata": {
    "scrolled": true
   },
   "outputs": [],
   "source": [
    "print(f\"Number of (rows, columns): {df.shape}\")\n",
    "duplicate_rows_df = df[df.duplicated()]\n",
    "print(f\"Number of duplicate (rows, columns): {duplicate_rows_df.shape}\")\n",
    "df = df.drop_duplicates()\n",
    "print(f\"Number of (rows, columns) after drop dublicates: {df.shape}\")"
   ]
  },
  {
   "cell_type": "markdown",
   "id": "a022623b",
   "metadata": {},
   "source": [
    "# Делаем кодирование строк + float->int"
   ]
  },
  {
   "cell_type": "code",
   "execution_count": null,
   "id": "4bd7b5d4",
   "metadata": {},
   "outputs": [],
   "source": [
    "float64_cols = df.loc[:, df.dtypes == float].columns\n",
    "\n",
    "df[float64_cols] = df[float64_cols].astype(int)\n",
    "\n",
    "# Label Encoding\n",
    "label_columns = [\"map\", \"bomb_planted\", \"round_winner\"]\n",
    "for label_column_i in label_columns:\n",
    "    df[label_column_i] = df[label_column_i].astype('category')\n",
    "    df[label_column_i] = df[label_column_i].cat.codes\n",
    "    df[label_column_i] = df[label_column_i].astype(int)\n",
    "\n",
    "pd.set_option('display.max_rows', 97)\n",
    "df.dtypes"
   ]
  },
  {
   "cell_type": "code",
   "execution_count": null,
   "id": "4ed45b78",
   "metadata": {},
   "outputs": [],
   "source": [
    "df.count() # Кол-во не None значений в каждой колонке"
   ]
  },
  {
   "cell_type": "code",
   "execution_count": null,
   "id": "51fe95a6",
   "metadata": {
    "scrolled": true
   },
   "outputs": [],
   "source": [
    "print(df.isnull().sum()) # Смотрим есть ли null хотя бы в каком-нибудь столбце\n",
    "# null'ов нет, поэтому \"df = df.dropna()\" не нужно"
   ]
  },
  {
   "cell_type": "code",
   "execution_count": null,
   "id": "a7b2415f",
   "metadata": {},
   "outputs": [],
   "source": [
    "sns.boxplot(x=df['time_left'])"
   ]
  },
  {
   "cell_type": "code",
   "execution_count": null,
   "id": "e09fae59",
   "metadata": {
    "scrolled": false
   },
   "outputs": [],
   "source": [
    "# Тепловая карта\n",
    "\n",
    "\n",
    "plt.figure(figsize=(100,50))\n",
    "c= df.corr()\n",
    "sns.heatmap(c,cmap=\"BrBG\",annot=True)\n",
    "c"
   ]
  }
 ],
 "metadata": {
  "kernelspec": {
   "display_name": "Python 3 (ipykernel)",
   "language": "python",
   "name": "python3"
  },
  "language_info": {
   "codemirror_mode": {
    "name": "ipython",
    "version": 3
   },
   "file_extension": ".py",
   "mimetype": "text/x-python",
   "name": "python",
   "nbconvert_exporter": "python",
   "pygments_lexer": "ipython3",
   "version": "3.10.7"
  }
 },
 "nbformat": 4,
 "nbformat_minor": 5
}
