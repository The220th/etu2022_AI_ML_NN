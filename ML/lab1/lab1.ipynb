{
 "cells": [
  {
   "cell_type": "code",
   "execution_count": null,
   "id": "e0ed926e",
   "metadata": {},
   "outputs": [],
   "source": [
    "# Подготовка\n",
    "import pandas as pd\n",
    "import seaborn as sns\n",
    "import matplotlib.pyplot as plt\n",
    "from statsmodels.graphics.mosaicplot import mosaic\n",
    "\n",
    "import zipfile\n",
    "\n",
    "\n",
    "__z = zipfile.ZipFile(\"dataset.zip\")\n",
    "#df_str = __z.open(\"csgo_round_snapshots.csv\").read().decode(\"utf-8\")\n",
    "df_str_fs = __z.open(\"csgo_round_snapshots.csv\")\n",
    "\n",
    "df = pd.read_csv(df_str_fs)\n",
    "\n",
    "category_columns = [\"map\", \"bomb_planted\", \"round_winner\"]"
   ]
  },
  {
   "cell_type": "markdown",
   "id": "973b8e0e",
   "metadata": {},
   "source": [
    "# Предварительная обработка данных\n",
    "\n",
    "Данные [отсюда](https://www.kaggle.com/datasets/christianlillelund/csgo-round-winner-classification):\n",
    "\n",
    "![](./imgs/table.png)"
   ]
  },
  {
   "cell_type": "code",
   "execution_count": null,
   "id": "4ad34610",
   "metadata": {},
   "outputs": [],
   "source": [
    "# Look dataframe\n",
    "#df.head()\n",
    "pd.set_option('display.max_columns', 97)\n",
    "df.tail()"
   ]
  },
  {
   "cell_type": "markdown",
   "id": "d2b082bf",
   "metadata": {},
   "source": [
    "# Убираем дубликаты"
   ]
  },
  {
   "cell_type": "code",
   "execution_count": null,
   "id": "b8501106",
   "metadata": {
    "scrolled": true
   },
   "outputs": [],
   "source": [
    "print(f\"Number of (rows, columns): {df.shape}\")\n",
    "duplicate_rows_df = df[df.duplicated()]\n",
    "print(f\"Number of duplicate (rows, columns): {duplicate_rows_df.shape}\")\n",
    "df = df.drop_duplicates()\n",
    "print(f\"Number of (rows, columns) after drop dublicates: {df.shape}\")"
   ]
  },
  {
   "cell_type": "markdown",
   "id": "7b065abc",
   "metadata": {},
   "source": [
    "# Смотрим, чтобы не было нерелевантных данных\n",
    "\n",
    "## Как поступить с такими данными?\n",
    "\n",
    "![](./imgs/if_missing_data.png)"
   ]
  },
  {
   "cell_type": "code",
   "execution_count": null,
   "id": "4ed45b78",
   "metadata": {
    "scrolled": true
   },
   "outputs": [],
   "source": [
    "pd.set_option('display.max_rows', 97)\n",
    "df.count() # Кол-во не None значений в каждой колонке"
   ]
  },
  {
   "cell_type": "code",
   "execution_count": null,
   "id": "51fe95a6",
   "metadata": {
    "scrolled": true
   },
   "outputs": [],
   "source": [
    "pd.set_option('display.max_rows', 97)\n",
    "print(df.isnull().sum()) # Смотрим есть ли null хотя бы в каком-нибудь столбце\n",
    "# null'ов нет, поэтому \"df = df.dropna()\" не нужно"
   ]
  },
  {
   "cell_type": "markdown",
   "id": "a022623b",
   "metadata": {},
   "source": [
    "# Делаем кодирование строк + float->int"
   ]
  },
  {
   "cell_type": "code",
   "execution_count": null,
   "id": "6fd3e4d2",
   "metadata": {
    "scrolled": true
   },
   "outputs": [],
   "source": [
    "df_float_cat = df.copy()\n",
    "\n",
    "label_columns = category_columns\n",
    "for label_column_i in label_columns:\n",
    "    df_float_cat[label_column_i] = df_float_cat[label_column_i].astype('category')\n",
    "\n",
    "pd.set_option('display.max_rows', 97)\n",
    "df_float_cat.dtypes                            # Смотрим какие вообще есть типы"
   ]
  },
  {
   "cell_type": "code",
   "execution_count": null,
   "id": "4bd7b5d4",
   "metadata": {
    "scrolled": true
   },
   "outputs": [],
   "source": [
    "df_ints = df.copy()\n",
    "\n",
    "float64_cols = df_ints.loc[:, df_ints.dtypes == float].columns\n",
    "\n",
    "df_ints[float64_cols] = df_ints[float64_cols].astype(int)\n",
    "\n",
    "# Label Encoding\n",
    "label_columns = category_columns\n",
    "for label_column_i in label_columns:\n",
    "    df_ints[label_column_i] = df_ints[label_column_i].astype('category')\n",
    "    df_ints[label_column_i] = df_ints[label_column_i].cat.codes\n",
    "    df_ints[label_column_i] = df_ints[label_column_i].astype(int)\n",
    "\n",
    "pd.set_option('display.max_rows', 97)\n",
    "df_ints.dtypes"
   ]
  },
  {
   "cell_type": "markdown",
   "id": "4f9c3d68",
   "metadata": {},
   "source": [
    "# Графики\n",
    "\n",
    "![](./imgs/which_visualization.png)\n",
    "\n",
    "В нашем случае есть смысл только в мозаичные диаграммы и диаграммы размаха"
   ]
  },
  {
   "cell_type": "code",
   "execution_count": null,
   "id": "e09fae59",
   "metadata": {
    "scrolled": false
   },
   "outputs": [],
   "source": [
    "# Тепловая карта\n",
    "\n",
    "\n",
    "plt.figure(figsize=(100,50))\n",
    "c= df_ints.corr()\n",
    "sns.heatmap(c,cmap=\"BrBG\",annot=True)\n",
    "c"
   ]
  },
  {
   "cell_type": "code",
   "execution_count": null,
   "id": "a7b2415f",
   "metadata": {},
   "outputs": [],
   "source": [
    "sns.boxplot(x=df['time_left'])"
   ]
  },
  {
   "cell_type": "code",
   "execution_count": null,
   "id": "92ff4cd8",
   "metadata": {
    "scrolled": true
   },
   "outputs": [],
   "source": [
    "# Диаграммы размаха\n",
    "\n",
    "float64_cols = df_float_cat.loc[:, df_float_cat.dtypes == \"float64\"].columns\n",
    "\n",
    "for float_i in float64_cols:\n",
    "    df_float_cat.boxplot(by ='round_winner', column =[float_i], grid = True)"
   ]
  },
  {
   "cell_type": "code",
   "execution_count": null,
   "id": "a0d1fec8",
   "metadata": {},
   "outputs": [],
   "source": [
    "# Мозаичные диаграммы\n",
    "\n",
    "plt.rcParams[\"figure.figsize\"]=(10, 5)\n",
    "category_cols = df_float_cat.loc[:, df_float_cat.dtypes == \"category\"].columns\n",
    "\n",
    "for cat_i in category_cols:\n",
    "    if(cat_i != \"round_winner\"):\n",
    "        null_out = mosaic(df, [cat_i, 'round_winner'])\n"
   ]
  },
  {
   "cell_type": "code",
   "execution_count": null,
   "id": "12149c2b",
   "metadata": {
    "scrolled": true
   },
   "outputs": [],
   "source": [
    "# Гистограммы\n",
    "\n",
    "plt.figure(figsize=(100,50))\n",
    "\n",
    "cols = df_ints.columns\n",
    "for col_i in cols:\n",
    "    df_ints.hist(column=col_i)\n",
    "#df_float_cat.hist()"
   ]
  },
  {
   "cell_type": "markdown",
   "id": "018f4401",
   "metadata": {},
   "source": [
    "# Проектирование признаков"
   ]
  },
  {
   "cell_type": "code",
   "execution_count": null,
   "id": "a7c1c3d9",
   "metadata": {
    "scrolled": false
   },
   "outputs": [],
   "source": [
    "#df.columns\n",
    "\n",
    "# https://stackoverflow.com/questions/25748683/pandas-sum-dataframe-rows-for-given-columns\n",
    "\n",
    "weapons_auto_guns_ct = [\"ct_weapon_ak47\", \"ct_weapon_aug\", \"ct_weapon_famas\", \"ct_weapon_galilar\", \n",
    "                        \"ct_weapon_m249\", \"ct_weapon_m4a1s\", \"ct_weapon_m4a4\", \n",
    "                        \"ct_weapon_negev\", \"ct_weapon_sg553\"]\n",
    "weapons_rifle_ct = [\"ct_weapon_awp\", \"ct_weapon_g3sg1\", \n",
    "                    \"ct_weapon_scar20\", \"ct_weapon_ssg08\"]\n",
    "weapons_sub_guns_ct = [\"ct_weapon_bizon\", \"ct_weapon_mac10\",\n",
    "                      \"ct_weapon_mp5sd\", \"ct_weapon_mp7\",\n",
    "                      \"ct_weapon_mp9\", \"ct_weapon_p90\", \"ct_weapon_ump45\"]\n",
    "weapons_pistols_ct = [\"ct_weapon_cz75auto\", \"ct_weapon_elite\", \n",
    "                      \"ct_weapon_glock\", \"ct_weapon_r8revolver\",\n",
    "                     \"ct_weapon_fiveseven\", \"ct_weapon_deagle\", \n",
    "                     \"ct_weapon_usps\", \"ct_weapon_p250\", \n",
    "                      \"ct_weapon_p2000\", \"ct_weapon_tec9\"]\n",
    "weapons_shutguns_ct = [\"ct_weapon_mag7\", \"ct_weapon_nova\", \n",
    "                       \"ct_weapon_sawedoff\", \"ct_weapon_xm1014\"]\n",
    "weapons_grenades_ct = [\"ct_grenade_hegrenade\", \"ct_grenade_flashbang\", \"ct_grenade_smokegrenade\", \n",
    "                       \"ct_grenade_incendiarygrenade\", \"ct_grenade_molotovgrenade\", \n",
    "                       \"ct_grenade_decoygrenade\"]\n",
    "\n",
    "weapons_auto_guns_t = [\"t_weapon_ak47\", \"t_weapon_aug\", \"t_weapon_famas\", \"t_weapon_galilar\", \n",
    "                        \"t_weapon_m249\", \"t_weapon_m4a1s\", \"t_weapon_m4a4\", \n",
    "                        \"t_weapon_negev\", \"t_weapon_sg553\"]\n",
    "weapons_rifle_t = [\"t_weapon_awp\", \"t_weapon_g3sg1\", \n",
    "                    \"t_weapon_scar20\", \"t_weapon_ssg08\"]\n",
    "weapons_sub_guns_t = [\"t_weapon_bizon\", \"t_weapon_mac10\",\n",
    "                      \"t_weapon_mp5sd\", \"t_weapon_mp7\",\n",
    "                      \"t_weapon_mp9\", \"t_weapon_p90\", \"t_weapon_ump45\"]\n",
    "weapons_pistols_t = [\"t_weapon_cz75auto\", \"t_weapon_elite\", \n",
    "                      \"t_weapon_glock\", \"t_weapon_r8revolver\",\n",
    "                     \"t_weapon_fiveseven\", \"t_weapon_deagle\", \n",
    "                     \"t_weapon_usps\", \"t_weapon_p250\", \n",
    "                      \"t_weapon_p2000\", \"t_weapon_tec9\"]\n",
    "weapons_shutguns_t = [\"t_weapon_mag7\", \"t_weapon_nova\", \n",
    "                       \"t_weapon_sawedoff\", \"t_weapon_xm1014\"]\n",
    "weapons_grenades_t = [\"t_grenade_hegrenade\", \"t_grenade_flashbang\", \"t_grenade_smokegrenade\", \n",
    "                       \"t_grenade_incendiarygrenade\", \"t_grenade_molotovgrenade\", \n",
    "                       \"t_grenade_decoygrenade\"]\n",
    "\n",
    "\n",
    "df_float_cat_round = df_float_cat.copy()\n",
    "\n",
    "df_float_cat_round[\"weapons_auto_guns_ct\"] = df_float_cat_round[weapons_auto_guns_ct].sum(axis=1)\n",
    "df_float_cat_round[\"weapons_rifle_ct\"] = df_float_cat_round[weapons_rifle_ct].sum(axis=1)\n",
    "df_float_cat_round[\"weapons_sub_guns_ct\"] = df_float_cat_round[weapons_sub_guns_ct].sum(axis=1)\n",
    "df_float_cat_round[\"weapons_pistols_ct\"] = df_float_cat_round[weapons_pistols_ct].sum(axis=1)\n",
    "df_float_cat_round[\"weapons_shutguns_ct\"] = df_float_cat_round[weapons_shutguns_ct].sum(axis=1)\n",
    "df_float_cat_round[\"weapons_grenades_ct\"] = df_float_cat_round[weapons_grenades_ct].sum(axis=1)\n",
    "\n",
    "df_float_cat_round[\"weapons_auto_guns_t\"] = df_float_cat_round[weapons_auto_guns_t].sum(axis=1)\n",
    "df_float_cat_round[\"weapons_rifle_t\"] = df_float_cat_round[weapons_rifle_t].sum(axis=1)\n",
    "df_float_cat_round[\"weapons_sub_guns_t\"] = df_float_cat_round[weapons_sub_guns_t].sum(axis=1)\n",
    "df_float_cat_round[\"weapons_pistols_t\"] = df_float_cat_round[weapons_pistols_t].sum(axis=1)\n",
    "df_float_cat_round[\"weapons_shutguns_t\"] = df_float_cat_round[weapons_shutguns_t].sum(axis=1)\n",
    "df_float_cat_round[\"weapons_grenades_t\"] = df_float_cat_round[weapons_grenades_t].sum(axis=1)\n",
    "\n",
    "\n",
    "df_float_cat_round = df_float_cat_round.drop(weapons_auto_guns_ct+weapons_rifle_ct+weapons_sub_guns_ct+weapons_pistols_ct+weapons_shutguns_ct+weapons_grenades_ct+\n",
    "                        weapons_auto_guns_t+weapons_rifle_t+weapons_sub_guns_t+weapons_pistols_t+weapons_shutguns_t+weapons_grenades_t\n",
    "                       , axis=1)\n",
    "\n",
    "l = list(df_float_cat_round.columns)\n",
    "l.remove(\"round_winner\")\n",
    "l += [\"round_winner\"]\n",
    "\n",
    "df_float_cat_round = df_float_cat_round[l]\n",
    "\n",
    "pd.set_option('display.max_columns', 97)\n",
    "df_float_cat_round.head(100)\n",
    "\n"
   ]
  },
  {
   "cell_type": "code",
   "execution_count": null,
   "id": "348e44c2",
   "metadata": {
    "scrolled": true
   },
   "outputs": [],
   "source": [
    "# Тепловая карта\n",
    "\n",
    "df_ints_round = df_float_cat_round.copy()\n",
    "\n",
    "float64_cols = df_ints_round.loc[:, df_ints_round.dtypes == float].columns\n",
    "\n",
    "df_ints_round[float64_cols] = df_ints_round[float64_cols].astype(int)\n",
    "\n",
    "# Label Encoding\n",
    "label_columns = category_columns\n",
    "for label_column_i in label_columns:\n",
    "    df_ints_round[label_column_i] = df_ints_round[label_column_i].astype('category')\n",
    "    df_ints_round[label_column_i] = df_ints_round[label_column_i].cat.codes\n",
    "    df_ints_round[label_column_i] = df_ints_round[label_column_i].astype(int)\n",
    "\n",
    "\n",
    "plt.figure(figsize=(100,50))\n",
    "c= df_ints_round.corr()\n",
    "sns.heatmap(c,cmap=\"BrBG\",annot=True)\n",
    "c"
   ]
  }
 ],
 "metadata": {
  "kernelspec": {
   "display_name": "Python 3 (ipykernel)",
   "language": "python",
   "name": "python3"
  },
  "language_info": {
   "codemirror_mode": {
    "name": "ipython",
    "version": 3
   },
   "file_extension": ".py",
   "mimetype": "text/x-python",
   "name": "python",
   "nbconvert_exporter": "python",
   "pygments_lexer": "ipython3",
   "version": "3.10.7"
  }
 },
 "nbformat": 4,
 "nbformat_minor": 5
}
