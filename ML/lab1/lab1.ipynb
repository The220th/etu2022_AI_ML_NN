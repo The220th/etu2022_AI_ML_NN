{
 "cells": [
  {
   "cell_type": "code",
   "execution_count": null,
   "id": "e0ed926e",
   "metadata": {},
   "outputs": [],
   "source": [
    "# Подготовка\n",
    "import pandas as pd\n",
    "import seaborn as sns\n",
    "import matplotlib.pyplot as plt\n",
    "from statsmodels.graphics.mosaicplot import mosaic\n",
    "\n",
    "import zipfile\n",
    "\n",
    "\n",
    "__z = zipfile.ZipFile(\"dataset.zip\")\n",
    "#df_str = __z.open(\"csgo_round_snapshots.csv\").read().decode(\"utf-8\")\n",
    "df_str_fs = __z.open(\"csgo_round_snapshots.csv\")\n",
    "\n",
    "df = pd.read_csv(df_str_fs)\n",
    "\n",
    "category_columns = [\"map\", \"bomb_planted\", \"round_winner\"]"
   ]
  },
  {
   "cell_type": "markdown",
   "id": "973b8e0e",
   "metadata": {},
   "source": [
    "# Предварительная обработка данных\n",
    "\n",
    "Данные [отсюда](https://www.kaggle.com/datasets/christianlillelund/csgo-round-winner-classification):\n",
    "\n",
    "![](./imgs/table.png)"
   ]
  },
  {
   "cell_type": "code",
   "execution_count": null,
   "id": "4ad34610",
   "metadata": {},
   "outputs": [],
   "source": [
    "# Look dataframe\n",
    "#df.head()\n",
    "pd.set_option('display.max_columns', 97)\n",
    "df.tail()"
   ]
  },
  {
   "cell_type": "markdown",
   "id": "d2b082bf",
   "metadata": {},
   "source": [
    "# Убираем дубликаты"
   ]
  },
  {
   "cell_type": "code",
   "execution_count": null,
   "id": "b8501106",
   "metadata": {
    "scrolled": true
   },
   "outputs": [],
   "source": [
    "print(f\"Number of (rows, columns): {df.shape}\")\n",
    "duplicate_rows_df = df[df.duplicated()]\n",
    "print(f\"Number of duplicate (rows, columns): {duplicate_rows_df.shape}\")\n",
    "df = df.drop_duplicates()\n",
    "print(f\"Number of (rows, columns) after drop dublicates: {df.shape}\")"
   ]
  },
  {
   "cell_type": "markdown",
   "id": "7b065abc",
   "metadata": {},
   "source": [
    "# Смотрим, чтобы не было нерелевантных данных\n",
    "\n",
    "## Как поступить с такими данными?\n",
    "\n",
    "![](./imgs/if_missing_data.png)"
   ]
  },
  {
   "cell_type": "code",
   "execution_count": null,
   "id": "4ed45b78",
   "metadata": {
    "scrolled": true
   },
   "outputs": [],
   "source": [
    "pd.set_option('display.max_rows', 97)\n",
    "df.count() # Кол-во не None значений в каждой колонке"
   ]
  },
  {
   "cell_type": "code",
   "execution_count": null,
   "id": "51fe95a6",
   "metadata": {
    "scrolled": true
   },
   "outputs": [],
   "source": [
    "pd.set_option('display.max_rows', 97)\n",
    "print(df.isnull().sum()) # Смотрим есть ли null хотя бы в каком-нибудь столбце\n",
    "# null'ов нет, поэтому \"df = df.dropna()\" не нужно"
   ]
  },
  {
   "cell_type": "markdown",
   "id": "a022623b",
   "metadata": {},
   "source": [
    "# Делаем кодирование строк + float->int"
   ]
  },
  {
   "cell_type": "code",
   "execution_count": null,
   "id": "6fd3e4d2",
   "metadata": {
    "scrolled": true
   },
   "outputs": [],
   "source": [
    "df_float_cat = df.copy()\n",
    "\n",
    "label_columns = category_columns\n",
    "for label_column_i in label_columns:\n",
    "    df_float_cat[label_column_i] = df_float_cat[label_column_i].astype('category')\n",
    "\n",
    "pd.set_option('display.max_rows', 97)\n",
    "df_float_cat.dtypes                            # Смотрим какие вообще есть типы"
   ]
  },
  {
   "cell_type": "code",
   "execution_count": null,
   "id": "4bd7b5d4",
   "metadata": {
    "scrolled": true
   },
   "outputs": [],
   "source": [
    "df_ints = df.copy()\n",
    "\n",
    "float64_cols = df_ints.loc[:, df_ints.dtypes == float].columns\n",
    "\n",
    "df_ints[float64_cols] = df_ints[float64_cols].astype(int)\n",
    "\n",
    "# Label Encoding\n",
    "label_columns = category_columns\n",
    "for label_column_i in label_columns:\n",
    "    df_ints[label_column_i] = df_ints[label_column_i].astype('category')\n",
    "    df_ints[label_column_i] = df_ints[label_column_i].cat.codes\n",
    "    df_ints[label_column_i] = df_ints[label_column_i].astype(int)\n",
    "\n",
    "pd.set_option('display.max_rows', 97)\n",
    "df_ints.dtypes"
   ]
  },
  {
   "cell_type": "markdown",
   "id": "4f9c3d68",
   "metadata": {},
   "source": [
    "# Графики\n",
    "\n",
    "![](./imgs/which_visualization.png)\n",
    "\n",
    "В нашем случае есть смысл только в мозаичные диаграммы и диаграммы размаха"
   ]
  },
  {
   "cell_type": "code",
   "execution_count": null,
   "id": "e09fae59",
   "metadata": {
    "scrolled": false
   },
   "outputs": [],
   "source": [
    "# Тепловая карта\n",
    "\n",
    "\n",
    "plt.figure(figsize=(100,50))\n",
    "c= df_ints.corr()\n",
    "sns.heatmap(c,cmap=\"BrBG\",annot=True)\n",
    "c"
   ]
  },
  {
   "cell_type": "code",
   "execution_count": null,
   "id": "a7b2415f",
   "metadata": {},
   "outputs": [],
   "source": [
    "sns.boxplot(x=df['time_left'])"
   ]
  },
  {
   "cell_type": "code",
   "execution_count": null,
   "id": "92ff4cd8",
   "metadata": {
    "scrolled": true
   },
   "outputs": [],
   "source": [
    "# Диаграммы размаха\n",
    "\n",
    "float64_cols = df_float_cat.loc[:, df_float_cat.dtypes == \"float64\"].columns\n",
    "\n",
    "for float_i in float64_cols:\n",
    "    df_float_cat.boxplot(by ='round_winner', column =[float_i], grid = True)"
   ]
  },
  {
   "cell_type": "code",
   "execution_count": null,
   "id": "a0d1fec8",
   "metadata": {},
   "outputs": [],
   "source": [
    "# Мозаичные диаграммы\n",
    "\n",
    "plt.rcParams[\"figure.figsize\"]=(10, 5)\n",
    "category_cols = df_float_cat.loc[:, df_float_cat.dtypes == \"category\"].columns\n",
    "\n",
    "for cat_i in category_cols:\n",
    "    if(cat_i != \"round_winner\"):\n",
    "        null_out = mosaic(df, [cat_i, 'round_winner'])\n"
   ]
  },
  {
   "cell_type": "code",
   "execution_count": null,
   "id": "12149c2b",
   "metadata": {
    "scrolled": true
   },
   "outputs": [],
   "source": [
    "# Гистограммы\n",
    "\n",
    "plt.figure(figsize=(100,50))\n",
    "\n",
    "cols = df_ints.columns\n",
    "for col_i in cols:\n",
    "    df_ints.hist(column=col_i)\n",
    "#df_float_cat.hist()"
   ]
  }
 ],
 "metadata": {
  "kernelspec": {
   "display_name": "Python 3 (ipykernel)",
   "language": "python",
   "name": "python3"
  },
  "language_info": {
   "codemirror_mode": {
    "name": "ipython",
    "version": 3
   },
   "file_extension": ".py",
   "mimetype": "text/x-python",
   "name": "python",
   "nbconvert_exporter": "python",
   "pygments_lexer": "ipython3",
   "version": "3.10.7"
  }
 },
 "nbformat": 4,
 "nbformat_minor": 5
}
