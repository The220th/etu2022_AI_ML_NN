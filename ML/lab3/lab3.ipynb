{
 "cells": [
  {
   "cell_type": "code",
   "execution_count": null,
   "id": "e0ed926e",
   "metadata": {},
   "outputs": [],
   "source": [
    "# Подготовка\n",
    "import pandas as pd\n",
    "import numpy as np\n",
    "import seaborn as sns\n",
    "import matplotlib.pyplot as plt\n",
    "%matplotlib inline\n",
    "\n",
    "from sklearn.preprocessing import StandardScaler\n",
    "from sklearn.model_selection import train_test_split, StratifiedKFold\n",
    "from sklearn.model_selection import GridSearchCV, RandomizedSearchCV\n",
    "from sklearn.metrics import classification_report, confusion_matrix, roc_curve\n",
    "\n",
    "import zipfile\n",
    "\n",
    "\n",
    "__z = zipfile.ZipFile(\"dataset.zip\")\n",
    "#df_str = __z.open(\"Vehicle_policies_2020.csv\").read().decode(\"utf-8\")\n",
    "df_str_fs = __z.open(\"car_price_prediction.csv\")\n",
    "\n",
    "df_src = pd.read_csv(df_str_fs)\n"
   ]
  },
  {
   "cell_type": "markdown",
   "id": "973b8e0e",
   "metadata": {},
   "source": [
    "# Предварительная обработка данных\n",
    "\n",
    "Данные [отсюда](https://www.kaggle.com/datasets/deepcontractor/car-price-prediction-challenge):\n",
    "\n",
    "~~1. ID: индификатор продажи. ~~\n",
    "\n",
    "2. Price: цена машины (этот столбец будем предсказывать). \n",
    "\n",
    "3. Levy: налог. \n",
    "\n",
    "4. Manufacturer: производитель. \n",
    "\n",
    "5. Model: модель машины. \n",
    "\n",
    "6. Prod. year: год производства. \n",
    "\n",
    "7. Category: тип машины. \n",
    "\n",
    "8. Leather interior: есть ли кожанный салон. \n",
    "\n",
    "9. Fuel type: тип топлива/тип двигателя. \n",
    "\n",
    "10. Engine volume: рабочий объём двигателя. \n",
    "\n",
    "11. Mileage: пробег. \n",
    "\n",
    "12. Cylinders: количество цилиндров. \n",
    "\n",
    "13. Gear box type: тип коробки передач. \n",
    "\n",
    "14. Drive wheels: ведущее(ие) колес(а). \n",
    "\n",
    "15. Doors: двери. \n",
    "\n",
    "16. Wheel: расположение руля (слева или справа). \n",
    "\n",
    "17. Color: цвет. \n",
    "\n",
    "18. Airbags: количество подушек безопасности. \n"
   ]
  },
  {
   "cell_type": "code",
   "execution_count": null,
   "id": "c146a53c",
   "metadata": {},
   "outputs": [],
   "source": [
    "# Look dataframe\n",
    "pd.set_option('display.max_columns', df_src.shape[1])\n",
    "df_src.head(300)"
   ]
  },
  {
   "cell_type": "code",
   "execution_count": null,
   "id": "4ad34610",
   "metadata": {
    "scrolled": false
   },
   "outputs": [],
   "source": [
    "# Look dataframe\n",
    "#df_src.head()\n",
    "pd.set_option('display.max_columns', df_src.shape[1])\n",
    "df_src.tail(300)"
   ]
  },
  {
   "cell_type": "markdown",
   "id": "018f4401",
   "metadata": {},
   "source": [
    "# Проектирование признаков"
   ]
  },
  {
   "cell_type": "markdown",
   "id": "d2b082bf",
   "metadata": {},
   "source": [
    "## Убираем дубликаты"
   ]
  },
  {
   "cell_type": "code",
   "execution_count": null,
   "id": "b8501106",
   "metadata": {
    "scrolled": true
   },
   "outputs": [],
   "source": [
    "print(f\"Number of (rows, columns): {df_src.shape}\")\n",
    "duplicate_rows_df = df_src[df_src.duplicated()]\n",
    "print(f\"Number of duplicate (rows, columns): {duplicate_rows_df.shape}\")\n",
    "df_src = df_src.drop_duplicates()\n",
    "print(f\"Number of (rows, columns) after drop dublicates: {df_src.shape}\")"
   ]
  },
  {
   "cell_type": "markdown",
   "id": "7b065abc",
   "metadata": {},
   "source": [
    "## Смотрим, чтобы не было нерелевантных данных\n",
    "\n",
    "### Как поступить с такими данными?\n",
    "\n",
    "![](./imgs/if_missing_data.png)\n"
   ]
  },
  {
   "cell_type": "code",
   "execution_count": null,
   "id": "4ed45b78",
   "metadata": {
    "scrolled": false
   },
   "outputs": [],
   "source": [
    "pd.set_option('display.max_rows', df_src.shape[1])\n",
    "df_src.count() # Кол-во не None значений в каждой колонке"
   ]
  },
  {
   "cell_type": "code",
   "execution_count": null,
   "id": "51fe95a6",
   "metadata": {
    "scrolled": true
   },
   "outputs": [],
   "source": [
    "pd.set_option('display.max_rows', df_src.shape[1])\n",
    "print(df_src.isnull().sum()) # Смотрим есть ли null хотя бы в каком-нибудь столбце\n"
   ]
  },
  {
   "cell_type": "code",
   "execution_count": null,
   "id": "06f47927",
   "metadata": {
    "scrolled": true
   },
   "outputs": [],
   "source": [
    "plt.figure(figsize=(100,50))\n",
    "\n",
    "print((df_src[\"Levy\"] == \"-\").value_counts())\n",
    "print((df_src[\"Levy\"] == \"-\").value_counts(normalize=True))\n",
    "\n",
    "(df_src[\"Levy\"]).value_counts().plot(kind='bar', subplots=True)\n",
    "\n",
    "\n",
    "levy_fit_true = df_src[(df_src[\"Levy\"] != \"-\") & (df_src[\"Model\"] == \"FIT\") & (df_src[\"Manufacturer\"] == \"HONDA\")].shape[0]\n",
    "\n",
    "levy_fit_false = df_src[(df_src[\"Levy\"] == \"-\") & (df_src[\"Model\"] == \"FIT\") & (df_src[\"Manufacturer\"] == \"HONDA\")].shape[0]\n",
    "\n",
    "print(f\"\\n\\tFor example if levy exists for HONDA FIT: {levy_fit_true} peaces. \")\n",
    "print(f\"\\n\\tFor example if levy not exists for HONDA FIT: {levy_fit_false} peaces. \")\n",
    "\n",
    "# df_src.hist(column=\"Levy\")\n",
    "\n",
    "# print(f\"Range of Levy: [{df_src['Levy'].min()} - {df_src['Levy'].max()}]\")\n"
   ]
  },
  {
   "cell_type": "code",
   "execution_count": null,
   "id": "0c2520a4",
   "metadata": {},
   "outputs": [],
   "source": [
    "IF_Levy_DELETE = False\n",
    "\n",
    "if(IF_Levy_DELETE == True):\n",
    "    # Удалим посностью Levy\n",
    "    del df_src[\"Levy\"]\n",
    "else:\n",
    "    # ИЛИ Удалим Levy, где равен \"-\"\n",
    "    df_src = df_src.drop(df_src[df_src[\"Levy\"] == \"-\"].index)\n"
   ]
  },
  {
   "cell_type": "code",
   "execution_count": null,
   "id": "f48a58cb",
   "metadata": {},
   "outputs": [],
   "source": [
    "sns.set_style('whitegrid')\n",
    "sns.distplot(df_src[\"Price\"])"
   ]
  },
  {
   "cell_type": "code",
   "execution_count": null,
   "id": "4ab3560a",
   "metadata": {},
   "outputs": [],
   "source": [
    "\n",
    "fig,ag = plt.subplots(figsize=(15,7))\n",
    "sns.distplot(   df_src[    (df_src[\"Price\"]<75000)&(df_src[\"Price\"]>0)   ][\"Price\"]   )\n",
    "sns.distplot(   df_src[    (df_src[\"Price\"]<30000)&(df_src[\"Price\"]>850)   ][\"Price\"]   )\n",
    "print(f\"Range of Price: [{df_src['Price'].min()} - {df_src['Price'].max()}]\")"
   ]
  },
  {
   "cell_type": "code",
   "execution_count": null,
   "id": "8d9a3f4f",
   "metadata": {},
   "outputs": [],
   "source": [
    "# Мда, создатель датасета, видимо решил приколоться...\n",
    "\n",
    "IF_shit_DELETE = False\n",
    "\n",
    "if(IF_shit_DELETE == True):\n",
    "    # Удалим машины ниже 850 долларов\n",
    "    df_src = df_src.drop(df_src[df_src[\"Price\"] < 850].index)\n",
    "else:\n",
    "    # ИЛИ оставляем всё как есть и веселимся!\n",
    "    pass"
   ]
  },
  {
   "cell_type": "code",
   "execution_count": null,
   "id": "bca8512c",
   "metadata": {
    "scrolled": true
   },
   "outputs": [],
   "source": [
    "# Удалим посностью ID\n",
    "del df_src[\"ID\"]\n",
    "\n",
    "# Удалим null'ы\n",
    "df_src = df_src.dropna()\n",
    "\n",
    "# Удалим дубликаты, если они появились после удаления столбцов\n",
    "df_src = df_src.drop_duplicates()\n",
    "\n",
    "print(f\"\\nNumber of (rows, columns): {df_src.shape}\")\n",
    "\n",
    "print(\"\\nКол-во не None значений:\")\n",
    "print(df_src.count())\n",
    "\n",
    "print(\"\\nКол-во null\\'ов:\")\n",
    "print(df_src.isnull().sum())"
   ]
  },
  {
   "cell_type": "markdown",
   "id": "a022623b",
   "metadata": {},
   "source": [
    "## Кодирование строк + числа - это числа"
   ]
  },
  {
   "cell_type": "code",
   "execution_count": null,
   "id": "cd1e3de3",
   "metadata": {
    "scrolled": false
   },
   "outputs": [],
   "source": [
    "# Смотрим типы столбцов\n",
    "\n",
    "pd.set_option('display.max_rows', df_src.shape[1])\n",
    "\n",
    "nullout = '''\n",
    "Должно быть:\n",
    "\n",
    "Price                 int64\n",
    "Levy                  int64\n",
    "Manufacturer         cat->int\n",
    "Model                cat->int\n",
    "Prod. year            int64\n",
    "Category             cat->int\n",
    "Leather interior     cat->int\n",
    "Fuel type            cat->int\n",
    "Engine volume        float64\n",
    "Mileage               int64\n",
    "Cylinders           float64\n",
    "Gear box type        cat->int\n",
    "Drive wheels         cat->int\n",
    "Doors                cat->int\n",
    "Wheel                cat->int\n",
    "Color                cat->int\n",
    "Airbags               int64\n",
    "'''\n",
    "\n",
    "df_src.dtypes"
   ]
  },
  {
   "cell_type": "code",
   "execution_count": null,
   "id": "3cedcb77",
   "metadata": {
    "scrolled": true
   },
   "outputs": [],
   "source": [
    "# Избавимся от мусора, сделаем числа числами\n",
    "\n",
    "print(df_src[\"Levy\"].value_counts())\n",
    "df_src[\"Levy\"] = df_src[\"Levy\"].astype(int)\n",
    "\n",
    "print(\"\\n==========\\n\")\n",
    "\n",
    "print(df_src[\"Mileage\"].value_counts())\n",
    "df_src[\"Mileage\"] = df_src[\"Mileage\"].apply(lambda x: x.split(\" \")[0])\n",
    "df_src[\"Mileage\"] = df_src[\"Mileage\"].astype(int)\n",
    "\n",
    "print(\"\\n==========\\n\")\n",
    "\n",
    "print(df_src[\"Engine volume\"].value_counts())\n",
    "df_src[\"Engine volume\"] = df_src[\"Engine volume\"].apply(lambda x: x.split(\" \")[0])\n",
    "df_src[\"Engine volume\"] = df_src[\"Engine volume\"].astype(float)\n"
   ]
  },
  {
   "cell_type": "code",
   "execution_count": null,
   "id": "69a47f4a",
   "metadata": {},
   "outputs": [],
   "source": [
    "cat_columns = [\"Manufacturer\", \"Model\", \"Category\", \"Leather interior\", \"Fuel type\", \"Gear box type\", \"Drive wheels\", \"Wheel\", \"Color\", \"Doors\"]\n",
    "\n",
    "for col_i in cat_columns:\n",
    "    print(f\"\\n==========\\n{col_i}\")\n",
    "    print(df_src[col_i].value_counts())\n"
   ]
  },
  {
   "cell_type": "code",
   "execution_count": null,
   "id": "cf4d77b2",
   "metadata": {
    "scrolled": false
   },
   "outputs": [],
   "source": [
    "df_nums = df_src.copy()\n",
    "\n",
    "# Категориальные:\n",
    "\n",
    "cat_columns_auto = [\"Manufacturer\", \"Model\", \"Category\", \"Fuel type\", \"Color\"]\n",
    "cat_columns_man = {\"Leather interior\": {\"No\": 0, \"Yes\": 1}, \n",
    "                   \"Gear box type\": {\"Manual\": 0, \"Automatic\": 1, \"Variator\": 2, \"Tiptronic\": 3}, \n",
    "                   \"Drive wheels\": {\"Rear\": 0, \"Front\": 1, \"4x4\": 2}, \n",
    "                   \"Wheel\": {\"Right-hand drive\": 0, \"Left wheel\": 1}, \n",
    "                   \"Doors\": {\"04-May\": 0, \"02-Mar\": 1, \">5\": 2}}\n",
    "\n",
    "for col_i in cat_columns_auto:\n",
    "    df_nums[col_i] = df_nums[col_i].astype('category')\n",
    "    df_nums[col_i] = df_nums[col_i].cat.codes\n",
    "    df_nums[col_i] = df_nums[col_i].astype(int)\n",
    "\n",
    "for col_i in cat_columns_man:\n",
    "    df_nums = df_nums.replace(cat_columns_man)\n",
    "\n",
    "pd.set_option('display.max_rows', df_src.shape[1])\n",
    "df_nums.dtypes"
   ]
  },
  {
   "cell_type": "markdown",
   "id": "83f98c9d",
   "metadata": {},
   "source": [
    "## Нормализация"
   ]
  },
  {
   "cell_type": "code",
   "execution_count": null,
   "id": "b2ac8e74",
   "metadata": {
    "scrolled": true
   },
   "outputs": [],
   "source": [
    "df_nums_scaled = df_nums.copy()\n",
    "buff = df_nums_scaled[\"Price\"]\n",
    "df_nums_scaled = ( df_nums-df_nums.min() ) / ( df_nums.max() - df_nums.min() )\n",
    "del df_nums_scaled[\"Price\"]\n",
    "df_nums_scaled.insert(0, \"Price\", buff)\n",
    "df_nums_scaled.head(300)\n"
   ]
  },
  {
   "cell_type": "markdown",
   "id": "4f9c3d68",
   "metadata": {},
   "source": [
    "# Графики\n",
    "\n",
    "![](./imgs/which_visualization.png)\n"
   ]
  },
  {
   "cell_type": "code",
   "execution_count": null,
   "id": "26067da1",
   "metadata": {},
   "outputs": [],
   "source": [
    "num_columns = [\"Price\", \"Levy\", \"Prod. year\", \"Engine volume\", \"Mileage\", \"Cylinders\", \"Airbags\"]\n",
    "for col_i in num_columns:\n",
    "    print(f\"Range of {col_i}: [{df_nums[col_i].min()} - {df_nums[col_i].max()}]\")"
   ]
  },
  {
   "cell_type": "code",
   "execution_count": null,
   "id": "e09fae59",
   "metadata": {
    "scrolled": false
   },
   "outputs": [],
   "source": [
    "# Тепловая карта\n",
    "\n",
    "plt.figure(figsize=(25, 13))\n",
    "c= df_nums.corr()\n",
    "sns.heatmap(c, cmap=\"BrBG\", annot=True)\n",
    "c\n",
    "\n",
    "# Смотря на карту эту, невольно спрашиваешь: А почему предсказываем Price? Куда интереснее выглядит Levy"
   ]
  },
  {
   "cell_type": "code",
   "execution_count": null,
   "id": "037989f6",
   "metadata": {
    "scrolled": false
   },
   "outputs": [],
   "source": [
    "\n",
    "num_columns = [\"Levy\", \"Prod. year\", \"Engine volume\", \"Mileage\", \"Cylinders\", \"Airbags\"]\n",
    "cat_columns = [\"Manufacturer\", \"Model\", \"Category\", \"Leather interior\", \"Fuel type\", \"Gear box type\", \"Drive wheels\", \"Wheel\", \"Color\", \"Doors\"]\n",
    "response_var = \"Price\"\n",
    "\n",
    "df_buff = df_src[(df_src[\"Price\"] > 850) & (df_src[\"Price\"] < 30000)]\n",
    "for cat_col_i in cat_columns:\n",
    "    # Что-то не работает с производителями и моделями...\n",
    "    if(cat_col_i != \"Manufacturer\" and cat_col_i != \"Model\"):\n",
    "        data_wide = df_buff.pivot(columns=cat_col_i, values=response_var)\n",
    "        # df_buff.pivot делает новую таблицу, где:\n",
    "        # Категории из cat_col_i становятся столбцами\n",
    "        # Каждая i строка имеет все NaN, кроме того столбца, где на i-ой строке в df_buff была именна эта категория,\n",
    "        # и в этом столбце, где не NaN будет стоять цена на i-ой строке в df_buff\n",
    "        data_wide.plot.kde(figsize = (8, 6), linewidth = 4)\n",
    "        # kde - это диаграмма плотности\n",
    "\n",
    "for num_col_i in num_columns:\n",
    "    df_nums.plot.scatter(x=num_col_i, y=response_var, c=\"DarkBlue\")\n",
    "    "
   ]
  },
  {
   "cell_type": "code",
   "execution_count": null,
   "id": "12149c2b",
   "metadata": {
    "scrolled": false
   },
   "outputs": [],
   "source": [
    "# Гистограммы\n",
    "\n",
    "plt.figure(figsize=(10, 10))\n",
    "\n",
    "df_src[(df_src[\"Price\"] > 850) & (df_src[\"Price\"] < 30000)].hist(column=\"Price\")\n",
    "df_src[(df_src[\"Price\"] < 30000)].hist(column=\"Price\")\n",
    "\n",
    "cols = df_nums.columns\n",
    "for col_i in cols:\n",
    "    df_nums.hist(column=col_i)\n"
   ]
  },
  {
   "cell_type": "markdown",
   "id": "9eface16",
   "metadata": {},
   "source": [
    "# Регрессия"
   ]
  },
  {
   "cell_type": "code",
   "execution_count": null,
   "id": "81bf19d5",
   "metadata": {},
   "outputs": [],
   "source": [
    "# coming soon...\n"
   ]
  }
 ],
 "metadata": {
  "kernelspec": {
   "display_name": "Python 3 (ipykernel)",
   "language": "python",
   "name": "python3"
  },
  "language_info": {
   "codemirror_mode": {
    "name": "ipython",
    "version": 3
   },
   "file_extension": ".py",
   "mimetype": "text/x-python",
   "name": "python",
   "nbconvert_exporter": "python",
   "pygments_lexer": "ipython3",
   "version": "3.10.8"
  }
 },
 "nbformat": 4,
 "nbformat_minor": 5
}
